{
 "cells": [
  {
   "cell_type": "code",
   "execution_count": 3,
   "metadata": {},
   "outputs": [
    {
     "name": "stdout",
     "output_type": "stream",
     "text": [
      "It's cold! Wear a sweater.\n"
     ]
    }
   ],
   "source": [
    "#warming up exersice\n",
    "\n",
    "temperature = int(input(\"Enter the current temperature in Celsius: \"))\n",
    "if temperature < 0:\n",
    "    print(\"It's freezing! Wear a heavy jacket.\")\n",
    "elif temperature <= 15:\n",
    "    print(\"It's cold! Wear a sweater.\")\n",
    "elif temperature <= 25:\n",
    "    print(\"Nice weather! A t-shirt is fine.\")\n",
    "else:\n",
    "    print(\"It's hot! Stay hydrated.\")"
   ]
  },
  {
   "cell_type": "code",
   "execution_count": 4,
   "metadata": {},
   "outputs": [
    {
     "name": "stdout",
     "output_type": "stream",
     "text": [
      "c\n",
      "o\n",
      "w\n"
     ]
    }
   ],
   "source": [
    "word = input(\"Enter a word: \")\n",
    "for letter in word:\n",
    "    print(letter)"
   ]
  },
  {
   "cell_type": "code",
   "execution_count": 5,
   "metadata": {},
   "outputs": [
    {
     "name": "stdout",
     "output_type": "stream",
     "text": [
      "o  \n",
      "o  o  \n",
      "o  o  o  \n",
      "o  o  o  o  \n",
      "o  o  o  o  o  \n"
     ]
    }
   ],
   "source": [
    "n = 5\n",
    "for i in range(n):\n",
    "    for j in range(i+1):\n",
    "        print('o', end='  ')\n",
    "    print()"
   ]
  },
  {
   "cell_type": "code",
   "execution_count": 6,
   "metadata": {},
   "outputs": [
    {
     "name": "stdout",
     "output_type": "stream",
     "text": [
      "1\n",
      "2\n",
      "Stopping the loop!\n"
     ]
    }
   ],
   "source": [
    "for number in range(1, 6):  \n",
    "    if number == 3:\n",
    "        print(\"Stopping the loop!\")\n",
    "        break \n",
    "    print(number)"
   ]
  },
  {
   "cell_type": "code",
   "execution_count": 7,
   "metadata": {},
   "outputs": [
    {
     "name": "stdout",
     "output_type": "stream",
     "text": [
      "1\n",
      "2\n",
      "4\n",
      "5\n"
     ]
    }
   ],
   "source": [
    "for number in range(1, 6):\n",
    "    if number == 3:\n",
    "        pass  \n",
    "    else:\n",
    "        print(number)"
   ]
  },
  {
   "cell_type": "code",
   "execution_count": 8,
   "metadata": {},
   "outputs": [
    {
     "name": "stdout",
     "output_type": "stream",
     "text": [
      "1\n",
      "2\n",
      "4\n",
      "5\n"
     ]
    }
   ],
   "source": [
    "for number in range(1, 6):\n",
    "    if number == 3:\n",
    "        continue  \n",
    "    print(number)\n"
   ]
  },
  {
   "cell_type": "code",
   "execution_count": 12,
   "metadata": {},
   "outputs": [],
   "source": [
    "def print_pattern(n):\n",
    "#Prints 'increasing triangle' pattern\n",
    "    for i in range(n):\n",
    "        for j in range(i+1): \n",
    "            print('o', end='  ')\n",
    "        print()"
   ]
  },
  {
   "cell_type": "code",
   "execution_count": 14,
   "metadata": {},
   "outputs": [
    {
     "name": "stdout",
     "output_type": "stream",
     "text": [
      "o  \n",
      "o  o  \n",
      "o  o  o  \n",
      "o  o  o  o  \n",
      "o  o  o  o  o  \n",
      "o  o  o  o  o  o  \n",
      "o  o  o  o  o  o  o  \n",
      "o  o  o  o  o  o  o  o  \n",
      "o  o  o  o  o  o  o  o  o  \n",
      "o  o  o  o  o  o  o  o  o  o  \n",
      "o  o  o  o  o  o  o  o  o  o  o  \n",
      "o  o  o  o  o  o  o  o  o  o  o  o  \n"
     ]
    }
   ],
   "source": [
    "n = int(input(\"Enter the number of row you want to print \"))\n",
    "print_pattern(n)"
   ]
  }
 ],
 "metadata": {
  "kernelspec": {
   "display_name": "Python 3",
   "language": "python",
   "name": "python3"
  },
  "language_info": {
   "codemirror_mode": {
    "name": "ipython",
    "version": 3
   },
   "file_extension": ".py",
   "mimetype": "text/x-python",
   "name": "python",
   "nbconvert_exporter": "python",
   "pygments_lexer": "ipython3",
   "version": "3.12.1"
  }
 },
 "nbformat": 4,
 "nbformat_minor": 2
}
