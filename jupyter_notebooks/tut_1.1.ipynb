{
  "cells": [
    {
      "cell_type": "markdown",
      "metadata": {
        "id": "SPhowg3yGu5I"
      },
      "source": [
        "# <u>Tut_1.1</u>"
      ]
    },
    {
      "cell_type": "markdown",
      "metadata": {
        "id": "fLbrLzwjGu5J"
      },
      "source": [
        "## Learning outcomes"
      ]
    },
    {
      "cell_type": "markdown",
      "metadata": {
        "id": "S2PVNEAJGu5K"
      },
      "source": [
        "* Understand a high-level structure of the course\n",
        "* Set up and get familiar with coding environment\n",
        "* Learn and understand **absolutely** necessary routines (*commands to be executed before and after each class*)\n",
        "* **markdown** syntax\n",
        "* Reflection on what is 'big data' and why do we need it\n",
        "* Why Python?\n",
        "* Modules, libraries and frameworks\n",
        "* 1<sup>st</sup> look at a python program structure (how it is organised, formatting, reserved words and naming conventions)\n",
        "* DRY principle\n",
        "* Errors\n",
        "* `print()` statement\n"
      ]
    },
    {
      "cell_type": "code",
      "source": [
        "name=input(\"what is your name?  \")\n",
        "print(\"The username you entered is:\",name)\n",
        "\n"
      ],
      "metadata": {
        "id": "yHU5sjkxHEa2",
        "outputId": "63c224f0-4090-4629-fb7f-78e5557f51b2",
        "colab": {
          "base_uri": "https://localhost:8080/"
        }
      },
      "execution_count": 21,
      "outputs": [
        {
          "output_type": "stream",
          "name": "stdout",
          "text": [
            "what is your name?  Harry\n",
            "The username you entered is: Harry\n"
          ]
        }
      ]
    },
    {
      "cell_type": "code",
      "source": [
        "radius = float(input(\"what is the radius of the circle? \"))\n",
        "Area = 3.1415 * radius **2\n",
        "print(Area)"
      ],
      "metadata": {
        "id": "TnYOvoh3KmVC",
        "outputId": "90aa23f5-cfbc-4ce0-d2b6-a516a2778da4",
        "colab": {
          "base_uri": "https://localhost:8080/"
        }
      },
      "execution_count": 20,
      "outputs": [
        {
          "output_type": "stream",
          "name": "stdout",
          "text": [
            "what is the radius of the circle? 3.6\n",
            "40.713840000000005\n"
          ]
        }
      ]
    },
    {
      "cell_type": "code",
      "source": [
        "\n",
        "score = float(input(\"Enter your numerical score: \"))\n",
        "\n",
        "if 90 <= score <= 100:\n",
        "    grade = \"A\"\n",
        "elif 80 <= score < 90:\n",
        "    grade = \"B\"\n",
        "elif 70 <= score < 80:\n",
        "    grade = \"C\"\n",
        "elif 60 <= score < 70:\n",
        "    grade = \"D\"\n",
        "else:\n",
        "    grade = \"F\"\n",
        "\n",
        "print(\"Your grade is: \",grade)"
      ],
      "metadata": {
        "id": "b7PFGkewL68F",
        "outputId": "cf343415-554a-4cee-8dc1-d9f3f803a0c0",
        "colab": {
          "base_uri": "https://localhost:8080/"
        }
      },
      "execution_count": 24,
      "outputs": [
        {
          "output_type": "stream",
          "name": "stdout",
          "text": [
            "Enter your numerical score: 98\n",
            "Your grade is:  A\n"
          ]
        }
      ]
    },
    {
      "cell_type": "code",
      "source": [
        "age = float (input(\"Enter your age: \"))\n",
        "student_id = input(\"Do you have a student ID? (yes/no): \").lower()\n",
        "\n",
        "if age < 12:\n",
        "  ticket_price = 5\n",
        "elif age >= 65:\n",
        "  ticket_price = 7\n",
        "elif student_id == \"yes\":\n",
        "  ticket_price = 8\n",
        "else:\n",
        "  ticket_price = 10\n",
        "\n",
        "print(\"Your ticket price is:\", ticket_price)\n"
      ],
      "metadata": {
        "id": "PNnNQI4_Qgnu",
        "outputId": "3aa32a01-d60f-420a-e7ab-16cfa5d6f2be",
        "colab": {
          "base_uri": "https://localhost:8080/"
        }
      },
      "execution_count": 31,
      "outputs": [
        {
          "output_type": "stream",
          "name": "stdout",
          "text": [
            "Enter your age: 18\n",
            "Do you have a student ID? (yes/no): no\n",
            "Your ticket price is: 10\n"
          ]
        }
      ]
    },
    {
      "cell_type": "markdown",
      "metadata": {
        "id": "QJQg8ZefGu5K"
      },
      "source": [
        "---"
      ]
    },
    {
      "cell_type": "markdown",
      "metadata": {
        "id": "BWtvJCUDGu5L"
      },
      "source": [
        "## Course Structure\n",
        "* Before the **consolidation week**: python fundamentals and essentials specific for **big data** applications.\n",
        "    * 2 classes per week, 2 hours each class. <u>N.b. Each class will cover it's own topic. Meaning, Thursday class is **not** a repetition of a content from Monday.</u>\n",
        "* After the **consolidation week**: principles of Big Data / Machine Learning / Data Mining: 2 hours of tutorials, 2 hours of drop-in.\n",
        "    * Image recognition using the Convolution Neural Network (CNN)\n",
        "    * Models for numerical data analysis (regression and classification tasks): Statitics, Linear Regression, Logistic Regression, Decision Tree, Ensemble Techniques\n",
        "    * Time series\n",
        "* If we have time (and energy) left: Model deployment using Flask, Streamlit, Heroku and/or Render.\n",
        "<br>\n",
        "<br>\n",
        "In **tut_1.1** the 1<sup>st</sup> is the week number; the 2<sup>nd</sup> number is the lecture of the week. Each tutorial has dedicated Jupyter notebook.\n",
        "\n"
      ]
    },
    {
      "cell_type": "markdown",
      "metadata": {
        "id": "YoY7aPqGGu5L"
      },
      "source": [
        "## Assessment\n",
        "1. Set of exercises: **20%**\n",
        "2. Course work: **80%**\n",
        "<br>\n",
        "<br>\n",
        "Submission dates: **t.b.d.**\n"
      ]
    },
    {
      "cell_type": "markdown",
      "metadata": {
        "id": "zAMIDcIZGu5L"
      },
      "source": [
        "---\n",
        "---"
      ]
    },
    {
      "cell_type": "markdown",
      "metadata": {
        "id": "s-GGFa4YGu5L"
      },
      "source": [
        "## <u>First thing first: setting up working/coding environment</u>\n",
        "### **[https://github.com/](https://github.com/)**"
      ]
    },
    {
      "cell_type": "markdown",
      "metadata": {
        "id": "8TVE3VFqGu5L"
      },
      "source": [
        "## Create GitHub repository\n",
        "* Give sensible name\n",
        "* Make it public\n",
        "* Add README\n",
        "* Add .gitignore from Python template\n",
        "* Licence is not required\n",
        "*You can customise your page later by adding photo, bio etc.*\n",
        "\n",
        "Do not login using your Google profile. Create a proper password and memorise it or write it down. You will need this password to provide third-party services access to your github account."
      ]
    },
    {
      "cell_type": "markdown",
      "metadata": {
        "id": "weGTWhd9Gu5M"
      },
      "source": [
        "---"
      ]
    },
    {
      "cell_type": "markdown",
      "metadata": {
        "id": "ZedKvhe4Gu5M"
      },
      "source": [
        "## Create codespace (follow in-class instructions)"
      ]
    },
    {
      "cell_type": "markdown",
      "metadata": {
        "id": "pvjQu6hPGu5M"
      },
      "source": [
        "---"
      ]
    },
    {
      "cell_type": "markdown",
      "metadata": {
        "id": "fSx9yCRoGu5M"
      },
      "source": [
        "## `.gitignore` file"
      ]
    },
    {
      "cell_type": "markdown",
      "metadata": {
        "id": "S2rK9RVcGu5M"
      },
      "source": [
        "---"
      ]
    },
    {
      "cell_type": "markdown",
      "metadata": {
        "id": "mPl9dEm7Gu5M"
      },
      "source": [
        "## Create and activate virtual environment (follow in-class instructions)"
      ]
    },
    {
      "cell_type": "markdown",
      "metadata": {
        "id": "4_IqCbfVGu5M"
      },
      "source": [
        "---"
      ]
    },
    {
      "cell_type": "markdown",
      "metadata": {
        "id": "yPQbXxXGGu5M"
      },
      "source": [
        "## Create `jupyter_notebooks` folder\n",
        "In this folder, create your 1<sup>st</sup> jupyter notebook. Use sensible name. It is recommended to create a notebook per tutorial. **Important**: <u>file name must have an extention **.ipynb**</u>\n",
        "\n",
        "In the file tab of VS Code select 'autosave'\n",
        "\n",
        "Select Kernel (follow in-class instructions)\n",
        "\n",
        "Upon the first `Code` cell execution, you will be asked to install Python kernel. Follow the in-class instructions (installation can take a while).\n",
        "\n",
        "*The name of the **Jupyter** project is the melt of names of three supported languages: <u>Julia, Python and R</u>. Jupyter notebook can also be run via Jupyter project, Anaconda or Google Colab*. VS Code is a universal IDE, can handle any other programming language and we are going to use it in this course."
      ]
    },
    {
      "cell_type": "markdown",
      "metadata": {
        "id": "O7CKUsPNGu5M"
      },
      "source": [
        "---"
      ]
    },
    {
      "cell_type": "markdown",
      "metadata": {
        "id": "ntmvG90NGu5M"
      },
      "source": [
        "## Markdown syntax"
      ]
    },
    {
      "cell_type": "markdown",
      "metadata": {
        "id": "QVlEtlxzGu5M"
      },
      "source": [
        "---"
      ]
    },
    {
      "cell_type": "markdown",
      "metadata": {
        "id": "zZOggaAeGu5N"
      },
      "source": [
        "## What is 'Big Data' and why do we need it?"
      ]
    },
    {
      "cell_type": "markdown",
      "metadata": {
        "id": "tTH1WMERGu5N"
      },
      "source": [
        "---"
      ]
    },
    {
      "cell_type": "markdown",
      "metadata": {
        "id": "vtkdKW-uGu5N"
      },
      "source": [
        "## Why Python?\n",
        "* High-level programming language\n",
        "* Very clear syntax\n",
        "* Interpreted\n",
        "* Dynamically typed\n",
        "* Abundance of libraries for data handling, visualisation and modelling (we do not have much choice when it comes to data handling and machine learning)"
      ]
    },
    {
      "cell_type": "markdown",
      "metadata": {
        "id": "Bb5UOivEGu5N"
      },
      "source": [
        "---"
      ]
    },
    {
      "cell_type": "markdown",
      "metadata": {
        "id": "Of1QNRytGu5N"
      },
      "source": [
        "## Libraries, modules and frameworks\n",
        "![Numpy](https://img.icons8.com/?size=100&id=aR9CXyMagKIS&format=png&color=000000)<br>\n",
        "![Pandas](https://img.icons8.com/?size=100&id=xSkewUSqtErH&format=png&color=000000)<br>\n",
        "![TensorFlow](https://img.icons8.com/?size=100&id=n3QRpDA7KZ7P&format=png&color=000000)<br>\n",
        "![Django](https://img.icons8.com/?size=100&id=qV-JzWYl9dzP&format=png&color=000000)"
      ]
    },
    {
      "cell_type": "markdown",
      "metadata": {
        "id": "AnLWqNfyGu5N"
      },
      "source": [
        "---"
      ]
    },
    {
      "cell_type": "markdown",
      "metadata": {
        "id": "YlyTV-FPGu5N"
      },
      "source": [
        "## 1<sup>st</sup> look at Python code"
      ]
    },
    {
      "cell_type": "code",
      "execution_count": null,
      "metadata": {
        "id": "4DwUmtAaGu5N"
      },
      "outputs": [],
      "source": [
        "import os  # import libraries\n",
        "\n",
        "def remove_non_image_file(my_data_dir):\n",
        "    \"\"\"\n",
        "    Checks files in defined folder and removes those which are not images.\n",
        "    \"\"\"\n",
        "    image_extension = ('.png', '.jpg', '.jpeg')\n",
        "    folders = os.listdir(my_data_dir)\n",
        "    for folder in folders:\n",
        "        files = os.listdir(os.path.join(my_data_dir, folder))\n",
        "        i = []\n",
        "        j = []\n",
        "        for given_file in files:\n",
        "            if not given_file.lower().endswith(image_extension):\n",
        "                file_location = os.path.join(my_data_dir, folder, given_file)\n",
        "                print(file_location)\n",
        "                os.remove(file_location)  # remove non image file\n",
        "                i.append(1)\n",
        "            else:\n",
        "                j.append(1)\n",
        "                pass\n",
        "        print(f\"Folder: {folder} - has image file\", len(j))\n",
        "        print(f\"Folder: {folder} - has non-image file\", len(i))"
      ]
    },
    {
      "cell_type": "markdown",
      "metadata": {
        "id": "Wy2rMVpCGu5N"
      },
      "source": [
        "* `import` is always on top\n",
        "* **tab** sensitive. Do not use 4 times spaces!!! Just **tab**\n",
        "* naming_convention for variables:\n",
        "    * no spaces\n",
        "    * no reserved words\n",
        "    * no numbers as a first character\n",
        "* comments and docstrings: good practice to think of those who will read your code"
      ]
    },
    {
      "cell_type": "markdown",
      "metadata": {
        "id": "qnhyKUvVGu5O"
      },
      "source": [
        "---"
      ]
    },
    {
      "cell_type": "markdown",
      "metadata": {
        "id": "3vadbh_EGu5O"
      },
      "source": [
        "## 'End of session' routine\n",
        "* `git add --all`\n",
        "* `git commit -m \"commit message\"`\n",
        "* `git push`\n",
        "\n",
        "(Sendint a parcel)\n",
        "\n",
        "`git status` - to see commit status (check uncommitted changes of your project)\n"
      ]
    },
    {
      "cell_type": "markdown",
      "metadata": {
        "id": "RZQPJcETGu5O"
      },
      "source": [
        "---"
      ]
    },
    {
      "cell_type": "markdown",
      "metadata": {
        "id": "m-dcsjoPGu5O"
      },
      "source": [
        "## DRY"
      ]
    },
    {
      "cell_type": "markdown",
      "metadata": {
        "id": "o_i09PCDGu5O"
      },
      "source": [
        "---"
      ]
    },
    {
      "cell_type": "markdown",
      "metadata": {
        "id": "pJ05Lyw8Gu5O"
      },
      "source": [
        "## Errors"
      ]
    },
    {
      "cell_type": "markdown",
      "metadata": {
        "id": "MRJenePPGu5O"
      },
      "source": [
        "---"
      ]
    },
    {
      "cell_type": "markdown",
      "metadata": {
        "id": "EHK0QBkDGu5O"
      },
      "source": [
        "### `print()` statement"
      ]
    },
    {
      "cell_type": "code",
      "execution_count": null,
      "metadata": {
        "id": "LB98O3kYGu5O",
        "outputId": "d487a0b5-066c-4a3f-a783-4a3831fd254d"
      },
      "outputs": [
        {
          "name": "stdout",
          "output_type": "stream",
          "text": [
            "test message\n",
            "4\n",
            "Today is Monday\n"
          ]
        }
      ],
      "source": [
        "print(\"test message\")  # Printing string\n",
        "print(2 + 2) # Printing result of equation\n",
        "week_day = \"Monday\"\n",
        "print(f\"Today is {week_day}\")  # String literals"
      ]
    },
    {
      "cell_type": "markdown",
      "metadata": {
        "id": "THXZRsXcGu5O"
      },
      "source": [
        "### Declaring variables\n",
        "`=` assignment operator"
      ]
    },
    {
      "cell_type": "code",
      "execution_count": null,
      "metadata": {
        "id": "6jQvmoa_Gu5P"
      },
      "outputs": [],
      "source": [
        "a = 5  # think of it as a storage box\n",
        "my_name = \"Sergey\"\n",
        "my_object = {\n",
        "    \"flat\": 20,\n",
        "    \"type\": \"residential\"\n",
        "}\n",
        "my_list = [3, 5, 6.4]"
      ]
    },
    {
      "cell_type": "markdown",
      "metadata": {
        "id": "ZWLMWXhFGu5P"
      },
      "source": [
        "### Data type"
      ]
    },
    {
      "cell_type": "markdown",
      "metadata": {
        "id": "2LRVzB53Gu5P"
      },
      "source": [
        "![Data type](https://github.com/H-934/m32895-public/blob/main/assets/img/data_type.png?raw=1)\n",
        "\n",
        "###### Sourse: Python essentials by [Code Institute](https://codeinstitute.net/)"
      ]
    },
    {
      "cell_type": "code",
      "execution_count": null,
      "metadata": {
        "id": "2DcrMXsDGu5Q",
        "outputId": "9a9e4e2c-a2a1-4480-f54e-537c172aa6ea"
      },
      "outputs": [
        {
          "name": "stdout",
          "output_type": "stream",
          "text": [
            "<class 'str'>\n",
            "<class 'int'>\n",
            "<class 'float'>\n",
            "<class 'complex'>\n",
            "<class 'list'>\n",
            "<class 'tuple'>\n",
            "<class 'range'>\n",
            "<class 'dict'>\n",
            "<class 'set'>\n",
            "<class 'bool'>\n",
            "False\n"
          ]
        }
      ],
      "source": [
        "print(type(\"Hello, World!\"))\n",
        "print(type(42))\n",
        "print(type(3.145))\n",
        "print(type(1j))\n",
        "print(type([\"egg\", \"bacon\", \"spam\"]))\n",
        "print(type((\"egg\", \"bacon\", \"spam\")))\n",
        "print(type(range(6)))\n",
        "print(type({\"name\" : \"John\", \"age\" : 80}))\n",
        "print(type({\"egg\", \"bacon\", \"spam\"}))\n",
        "print(type(True))\n",
        "print(isinstance(3.14, int))\n"
      ]
    },
    {
      "cell_type": "markdown",
      "metadata": {
        "id": "p3SxnkgPGu5Q"
      },
      "source": [
        "### String"
      ]
    },
    {
      "cell_type": "code",
      "execution_count": null,
      "metadata": {
        "id": "DscwjvTlGu5Q",
        "outputId": "07434943-fbaa-4c22-f8e5-fcbc5292fbc6"
      },
      "outputs": [
        {
          "name": "stdout",
          "output_type": "stream",
          "text": [
            "Then Mike said 'What is that?'\n",
            "It's a beautiful day\n"
          ]
        }
      ],
      "source": [
        "print(\"Then Mike said 'What is that?'\") # Note: usage of double and single quotes\n",
        "print(\"It's a beautiful day\")"
      ]
    },
    {
      "cell_type": "markdown",
      "metadata": {
        "id": "7xpTxhz9Gu5Q"
      },
      "source": [
        "### Functions for converting between data types"
      ]
    },
    {
      "cell_type": "code",
      "execution_count": null,
      "metadata": {
        "id": "d69glcJhGu5Q"
      },
      "outputs": [],
      "source": [
        "int()  # Converts to an integer\n",
        "float()  # Converts to a floating-point number\n",
        "hex()  # Converts a number to a hexadecimal string\n",
        "oct()  # Converts a number to a octal string\n",
        "tuple()  #Converts to a tuple\n",
        "set()  # Converts to a set\n",
        "list()  # Converts to a list\n",
        "dict()  # Converts a tuple into a dictionary\n",
        "str()  # Converts a number into a string"
      ]
    },
    {
      "cell_type": "markdown",
      "metadata": {
        "id": "CI4MCKwkGu5Q"
      },
      "source": [
        "### Python arithmetic operators"
      ]
    },
    {
      "cell_type": "markdown",
      "metadata": {
        "id": "q4eg25NXGu5Q"
      },
      "source": [
        "![Python arythmetic operators](https://github.com/H-934/m32895-public/blob/main/assets/img/arythmetic_operators.png?raw=1)\n",
        "###### Sourse: Python essentials by [Code Institute](https://codeinstitute.net/)"
      ]
    },
    {
      "cell_type": "markdown",
      "metadata": {
        "id": "iDJscg0ZGu5Q"
      },
      "source": [
        "### String methods\n",
        "N.b. Difference in usage of function and method."
      ]
    },
    {
      "cell_type": "code",
      "execution_count": null,
      "metadata": {
        "id": "QoH0_GMYGu5Q"
      },
      "outputs": [],
      "source": [
        "my_string = \"test value\"\n",
        "\n",
        "my_string.capitalize()  # Capitalizes the first character of the string\n",
        "my_string.center()  # Centers string\n",
        "my_string.count()  # Returns a count of times a specified value occurs in the string\n",
        "my_string.encode()  # Returns an encoded version of the string (use decode() to decode)\n",
        "my_string.endswith()  # Returns True if the string ends with a specified suffix\n",
        "my_string.expandtabs()  # Sets the tab size in spaces of the string\n",
        "my_string.find()  # Returns the lowest index position of where a specified character was found\n",
        "my_string.index()  # Searches for a specified value and returns the position of where it was found or an error if not found\n",
        "my_string.isalnum()  # Returns True if all characters are alphanumeric\n",
        "my_string.isalpha()  # Returns True if all characters are alphabetic\n",
        "my_string.isdigit()  # Returns True if all characters are digits\n",
        "my_string.islower()  # Returns True if all characters are lower case\n",
        "my_string.isspace()  # Returns True if all characters are whitespace\n",
        "my_string.istitle()  # Returns True if the string is titlecased\n",
        "my_string.isupper()  # Returns True if all characters in the string are upper case\n",
        "my_string.join()  # concatenates string\n",
        "my_string.ljust()  # Returns a left justified version of the string\n",
        "my_string.lower()  # Converts a string into lower case\n",
        "my_string.lstrip()  # Returns a left trim version of the string\n",
        "my_string.partition()  # Returns a tuple where the string is parted into two strings and the separator\n",
        "my_string.replace()  # Returns a string where a old value is replaced with a new value\n",
        "my_string.rfind()  # Searches highest index in the string for a specified value\n",
        "my_string.rindex()  # Same but with error if nothing found\n",
        "my_string.rjust()  # Returns a right justified version of the string\n",
        "my_string.rpartition()  # Returns a tuple where the string is parted into three parts\n",
        "my_string.rsplit()  # Splits the string at the specified separator, and returns a list\n",
        "my_string.rstrip()  # Returns a right trim version of the string\n",
        "my_string.split()  # Splits the string at the specified separator, and returns a list\n",
        "my_string.splitlines()  # Splits the string at line breaks and returns a list\n",
        "my_string.startswith()  # Returns true if the string starts with the specified value\n",
        "my_string.strip()  # Returns a trimmed version of the string\n",
        "my_string.swapcase()  # Swaps cases, lower case becomes upper case and vice versa\n",
        "my_string.title()  # Converts the first character of each word to upper case\n",
        "my_string.translate()  # Returns a translated string\n",
        "my_string.upper()  # Converts a string into uppercase\n",
        "my_string.zfill()  # Fills the string with a specified number of 0 values at the beginning"
      ]
    },
    {
      "cell_type": "markdown",
      "metadata": {
        "id": "S3gzXvmuGu5R"
      },
      "source": [
        "### Comparison operators\n"
      ]
    },
    {
      "cell_type": "code",
      "execution_count": null,
      "metadata": {
        "id": "4VzytPpRGu5R",
        "outputId": "e3e0d996-a156-41c4-9c06-39e2568acfed"
      },
      "outputs": [
        {
          "name": "stdout",
          "output_type": "stream",
          "text": [
            "True\n",
            "False\n",
            "True\n",
            "True\n",
            "False\n"
          ]
        }
      ],
      "source": [
        "print('Hello, World!' == 'Hello, World!')\n",
        "print(2!=2)\n",
        "print([1,2]<[1,2,3])\n",
        "print(float(2)>=int(2))\n",
        "print('a'<'A') #This is False as 'a' is Unicode 97 where 'A' is 65\n"
      ]
    },
    {
      "cell_type": "markdown",
      "metadata": {
        "id": "lxLFDg3yGu5R"
      },
      "source": [
        "### Logical operators\n",
        "Priority:\n",
        "1. not\n",
        "2. and\n",
        "3. or"
      ]
    },
    {
      "cell_type": "code",
      "execution_count": null,
      "metadata": {
        "id": "YuqQMrBnGu5R"
      },
      "outputs": [],
      "source": [
        "print(True and True)\n",
        "print(True and False)\n",
        "print(True or False)\n",
        "print(not (4 < 5 and 4 < 10))"
      ]
    },
    {
      "cell_type": "markdown",
      "metadata": {
        "id": "cwGNw17JGu5R"
      },
      "source": [
        "### If-Else statements"
      ]
    },
    {
      "cell_type": "markdown",
      "metadata": {
        "id": "J4GPHvn1Gu5R"
      },
      "source": [
        "Boolean logic checked by `if` and `else` statements - **flow control by decision making**.\n",
        "\n",
        "![if-else statement](https://github.com/H-934/m32895-public/blob/main/assets/img/if_else.png?raw=1)\n",
        "\n",
        "###### Sourse: Python essentials by [Code Institute](https://codeinstitute.net/)"
      ]
    },
    {
      "cell_type": "code",
      "execution_count": null,
      "metadata": {
        "id": "ONDnteMZGu5R",
        "outputId": "83d1a48f-386e-4eb6-c335-013bb6a6d331"
      },
      "outputs": [
        {
          "name": "stdout",
          "output_type": "stream",
          "text": [
            "10 is equal to 10\n"
          ]
        }
      ],
      "source": [
        "number = int(input(\"Enter a number:\"))  # input() function\n",
        "\n",
        "if number == 10:\n",
        "    print(f\"{number} is equal to 10\")\n",
        "else:\n",
        "    print(f\"{number} is not equal to 10\")\n",
        "\n",
        "    # Note: formatting of the snippet\n",
        "    # !! if-else statement can be nested !! This will be important for an in-class exersise."
      ]
    },
    {
      "cell_type": "markdown",
      "metadata": {
        "id": "koC-j-gOGu5R"
      },
      "source": [
        "---"
      ]
    },
    {
      "cell_type": "markdown",
      "metadata": {
        "id": "0lpOnVZbGu5R"
      },
      "source": [
        "## In-class exercise: Movie ticket price calculator\n",
        "#### Objective:\n",
        "Practice using print statements, logical operators, string methods, data type conversion, and `if-else` statements.\n",
        "#### Scenario:\n",
        "The cinema charges different prices based on the customer's age:\n",
        "* Children (0-5 years old): Free\n",
        "* Kids (6-12 years old): $5\n",
        "* Teens (13-17 years old): $8\n",
        "* Adults (18-59 years old): $12\n",
        "* Seniors (60+ years old): Free\n",
        "Your task is to ask the user for their age, determine the correct ticket price, and display it.\n",
        "#### Instructions:\n",
        "1. Prompt the user to enter their age.\n",
        "2. Convert the input to an integer (handle input correctly).\n",
        "3. Use if and else statements to determine the ticket price.\n",
        "4. Print a message displaying the user's age and the corresponding ticket price.\n",
        "5. Use string methods (e.g., .strip(), but not compulsory) to clean up user input.\n"
      ]
    },
    {
      "cell_type": "markdown",
      "metadata": {
        "id": "AhFsy2ZCGu5R"
      },
      "source": [
        "### Solution"
      ]
    },
    {
      "cell_type": "code",
      "execution_count": null,
      "metadata": {
        "id": "b6epC-9iGu5S",
        "outputId": "e15c1d3f-e85b-408d-d7b0-bf258d817d41"
      },
      "outputs": [
        {
          "name": "stdout",
          "output_type": "stream",
          "text": [
            "Since you are 55 years old, your ticket price is $12.\n"
          ]
        }
      ],
      "source": [
        "# Ask the user for their age\n",
        "age = input(\"Enter your age: \").strip()\n",
        "\n",
        "# Convert age to integer\n",
        "age = int(age)\n",
        "\n",
        "# Determine the ticket price using only if-else statements\n",
        "if age <= 5:\n",
        "    price = \"free!\"\n",
        "else:\n",
        "    if age <= 12:\n",
        "        price = \"$5\"\n",
        "    else:\n",
        "        if age <= 17:\n",
        "            price = \"$8\"\n",
        "        else:\n",
        "            if age <= 59:\n",
        "                price = \"$12\"\n",
        "            else:\n",
        "                price = \"free!\"\n",
        "\n",
        "# Print the result\n",
        "print(f\"Since you are {age} years old, your ticket price is {price}.\")\n"
      ]
    },
    {
      "cell_type": "markdown",
      "metadata": {
        "id": "JS0VqzMgGu5S"
      },
      "source": [
        "---"
      ]
    },
    {
      "cell_type": "markdown",
      "metadata": {
        "id": "Ily_oF9KGu5S"
      },
      "source": [
        "## Homework\n",
        "* Study the structure and options of [GitHub](https://github.com/)\n",
        "* Get familiar with VS Code codespace\n",
        "* Get familiar with Jupyter Notebook\n",
        "* Get familiar with markdown synthax"
      ]
    },
    {
      "cell_type": "markdown",
      "metadata": {
        "id": "bvWidBxHGu5S"
      },
      "source": []
    }
  ],
  "metadata": {
    "kernelspec": {
      "display_name": "venv",
      "language": "python",
      "name": "python3"
    },
    "language_info": {
      "codemirror_mode": {
        "name": "ipython",
        "version": 3
      },
      "file_extension": ".py",
      "mimetype": "text/x-python",
      "name": "python",
      "nbconvert_exporter": "python",
      "pygments_lexer": "ipython3",
      "version": "3.12.8"
    },
    "colab": {
      "provenance": []
    }
  },
  "nbformat": 4,
  "nbformat_minor": 0
}